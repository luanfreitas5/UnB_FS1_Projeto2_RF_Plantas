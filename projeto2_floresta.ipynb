{
 "cells": [
  {
   "cell_type": "code",
   "execution_count": 1,
   "metadata": {},
   "outputs": [],
   "source": [
    "import os\n",
    "import pandas as pd\n",
    "import matplotlib.pyplot as plt\n",
    "from sklearn.model_selection import cross_val_score, cross_val_predict\n",
    "from sklearn.model_selection import StratifiedKFold, LeaveOneOut, KFold\n",
    "from sklearn.metrics import accuracy_score\n",
    "from sklearn.ensemble import RandomForestClassifier\n",
    "from sklearn.metrics import confusion_matrix"
   ]
  },
  {
   "cell_type": "code",
   "execution_count": 4,
   "metadata": {},
   "outputs": [
    {
     "data": {
      "text/html": [
       "<div>\n",
       "<style scoped>\n",
       "    .dataframe tbody tr th:only-of-type {\n",
       "        vertical-align: middle;\n",
       "    }\n",
       "\n",
       "    .dataframe tbody tr th {\n",
       "        vertical-align: top;\n",
       "    }\n",
       "\n",
       "    .dataframe thead th {\n",
       "        text-align: right;\n",
       "    }\n",
       "</style>\n",
       "<table border=\"1\" class=\"dataframe\">\n",
       "  <thead>\n",
       "    <tr style=\"text-align: right;\">\n",
       "      <th></th>\n",
       "      <th>Class</th>\n",
       "      <th>Specimen Number</th>\n",
       "      <th>Eccentricity</th>\n",
       "      <th>Aspect Ratio</th>\n",
       "      <th>Elongation</th>\n",
       "      <th>Solidity</th>\n",
       "      <th>Stochastic Convexity</th>\n",
       "      <th>Isoperimetric Factor</th>\n",
       "      <th>Maximal Indentation Depth</th>\n",
       "      <th>Lobedness</th>\n",
       "      <th>Average Intensity</th>\n",
       "      <th>Average Contrast</th>\n",
       "      <th>Smoothness</th>\n",
       "      <th>Third moment</th>\n",
       "      <th>Uniformity</th>\n",
       "      <th>Entropy</th>\n",
       "    </tr>\n",
       "  </thead>\n",
       "  <tbody>\n",
       "    <tr>\n",
       "      <th>0</th>\n",
       "      <td>1</td>\n",
       "      <td>1</td>\n",
       "      <td>0.72694</td>\n",
       "      <td>1.4742</td>\n",
       "      <td>0.32396</td>\n",
       "      <td>0.98535</td>\n",
       "      <td>1.00000</td>\n",
       "      <td>0.83592</td>\n",
       "      <td>0.004657</td>\n",
       "      <td>0.003947</td>\n",
       "      <td>0.047790</td>\n",
       "      <td>0.127950</td>\n",
       "      <td>0.016108</td>\n",
       "      <td>0.005232</td>\n",
       "      <td>0.000275</td>\n",
       "      <td>1.17560</td>\n",
       "    </tr>\n",
       "    <tr>\n",
       "      <th>1</th>\n",
       "      <td>1</td>\n",
       "      <td>2</td>\n",
       "      <td>0.74173</td>\n",
       "      <td>1.5257</td>\n",
       "      <td>0.36116</td>\n",
       "      <td>0.98152</td>\n",
       "      <td>0.99825</td>\n",
       "      <td>0.79867</td>\n",
       "      <td>0.005242</td>\n",
       "      <td>0.005002</td>\n",
       "      <td>0.024160</td>\n",
       "      <td>0.090476</td>\n",
       "      <td>0.008119</td>\n",
       "      <td>0.002708</td>\n",
       "      <td>0.000075</td>\n",
       "      <td>0.69659</td>\n",
       "    </tr>\n",
       "    <tr>\n",
       "      <th>2</th>\n",
       "      <td>1</td>\n",
       "      <td>3</td>\n",
       "      <td>0.76722</td>\n",
       "      <td>1.5725</td>\n",
       "      <td>0.38998</td>\n",
       "      <td>0.97755</td>\n",
       "      <td>1.00000</td>\n",
       "      <td>0.80812</td>\n",
       "      <td>0.007457</td>\n",
       "      <td>0.010121</td>\n",
       "      <td>0.011897</td>\n",
       "      <td>0.057445</td>\n",
       "      <td>0.003289</td>\n",
       "      <td>0.000921</td>\n",
       "      <td>0.000038</td>\n",
       "      <td>0.44348</td>\n",
       "    </tr>\n",
       "    <tr>\n",
       "      <th>3</th>\n",
       "      <td>1</td>\n",
       "      <td>4</td>\n",
       "      <td>0.73797</td>\n",
       "      <td>1.4597</td>\n",
       "      <td>0.35376</td>\n",
       "      <td>0.97566</td>\n",
       "      <td>1.00000</td>\n",
       "      <td>0.81697</td>\n",
       "      <td>0.006877</td>\n",
       "      <td>0.008607</td>\n",
       "      <td>0.015950</td>\n",
       "      <td>0.065491</td>\n",
       "      <td>0.004271</td>\n",
       "      <td>0.001154</td>\n",
       "      <td>0.000066</td>\n",
       "      <td>0.58785</td>\n",
       "    </tr>\n",
       "    <tr>\n",
       "      <th>4</th>\n",
       "      <td>1</td>\n",
       "      <td>5</td>\n",
       "      <td>0.82301</td>\n",
       "      <td>1.7707</td>\n",
       "      <td>0.44462</td>\n",
       "      <td>0.97698</td>\n",
       "      <td>1.00000</td>\n",
       "      <td>0.75493</td>\n",
       "      <td>0.007428</td>\n",
       "      <td>0.010042</td>\n",
       "      <td>0.007938</td>\n",
       "      <td>0.045339</td>\n",
       "      <td>0.002051</td>\n",
       "      <td>0.000560</td>\n",
       "      <td>0.000024</td>\n",
       "      <td>0.34214</td>\n",
       "    </tr>\n",
       "  </tbody>\n",
       "</table>\n",
       "</div>"
      ],
      "text/plain": [
       "   Class  Specimen Number  Eccentricity  Aspect Ratio  Elongation  Solidity  \\\n",
       "0      1                1       0.72694        1.4742     0.32396   0.98535   \n",
       "1      1                2       0.74173        1.5257     0.36116   0.98152   \n",
       "2      1                3       0.76722        1.5725     0.38998   0.97755   \n",
       "3      1                4       0.73797        1.4597     0.35376   0.97566   \n",
       "4      1                5       0.82301        1.7707     0.44462   0.97698   \n",
       "\n",
       "   Stochastic Convexity  Isoperimetric Factor  Maximal Indentation Depth  \\\n",
       "0               1.00000               0.83592                   0.004657   \n",
       "1               0.99825               0.79867                   0.005242   \n",
       "2               1.00000               0.80812                   0.007457   \n",
       "3               1.00000               0.81697                   0.006877   \n",
       "4               1.00000               0.75493                   0.007428   \n",
       "\n",
       "   Lobedness  Average Intensity  Average Contrast  Smoothness  Third moment  \\\n",
       "0   0.003947           0.047790          0.127950    0.016108      0.005232   \n",
       "1   0.005002           0.024160          0.090476    0.008119      0.002708   \n",
       "2   0.010121           0.011897          0.057445    0.003289      0.000921   \n",
       "3   0.008607           0.015950          0.065491    0.004271      0.001154   \n",
       "4   0.010042           0.007938          0.045339    0.002051      0.000560   \n",
       "\n",
       "   Uniformity  Entropy  \n",
       "0    0.000275  1.17560  \n",
       "1    0.000075  0.69659  \n",
       "2    0.000038  0.44348  \n",
       "3    0.000066  0.58785  \n",
       "4    0.000024  0.34214  "
      ]
     },
     "execution_count": 4,
     "metadata": {},
     "output_type": "execute_result"
    }
   ],
   "source": [
    "colunas = ['Class', 'Specimen Number', 'Eccentricity', 'Aspect Ratio',\n",
    "           'Elongation', 'Solidity', 'Stochastic Convexity', 'Isoperimetric Factor',\n",
    "           'Maximal Indentation Depth', 'Lobedness', 'Average Intensity', 'Average Contrast',\n",
    "           'Smoothness', 'Third moment', 'Uniformity', 'Entropy']\n",
    "        \n",
    "folhas = pd.read_csv(\"leaf.csv\", names=colunas, header=None)\n",
    "folhas.head()"
   ]
  },
  {
   "cell_type": "code",
   "execution_count": 5,
   "metadata": {},
   "outputs": [
    {
     "name": "stdout",
     "output_type": "stream",
     "text": [
      "[ 1  1  1  1  1  1  1  1  1  1  1  1  2  2  2  2  2  2  2  2  2  2  3  3\n",
      "  3  3  3  3  3  3  3  3  4  4  4  4  4  4  4  4  5  5  5  5  5  5  5  5\n",
      "  5  5  5  5  6  6  6  6  6  6  6  6  7  7  7  7  7  7  7  7  7  7  8  8\n",
      "  8  8  8  8  8  8  8  8  8  9  9  9  9  9  9  9  9  9  9  9  9  9  9 10\n",
      " 10 10 10 10 10 10 10 10 10 10 10 10 11 11 11 11 11 11 11 11 11 11 11 11\n",
      " 11 11 11 11 12 12 12 12 12 12 12 12 12 12 12 12 13 13 13 13 13 13 13 13\n",
      " 13 13 13 13 13 14 14 14 14 14 14 14 14 14 14 14 14 15 15 15 15 15 15 15\n",
      " 15 15 15 22 22 22 22 22 22 22 22 22 22 22 22 23 23 23 23 23 23 23 23 23\n",
      " 23 23 24 24 24 24 24 24 24 24 24 24 24 24 24 25 25 25 25 25 25 25 25 25\n",
      " 26 26 26 26 26 26 26 26 26 26 26 26 27 27 27 27 27 27 27 27 27 27 27 28\n",
      " 28 28 28 28 28 28 28 28 28 28 28 29 29 29 29 29 29 29 29 29 29 29 29 30\n",
      " 30 30 30 30 30 30 30 30 30 30 30 31 31 31 31 31 31 31 31 31 31 31 32 32\n",
      " 32 32 32 32 32 32 32 32 32 33 33 33 33 33 33 33 33 33 33 33 34 34 34 34\n",
      " 34 34 34 34 34 34 34 35 35 35 35 35 35 35 35 35 35 35 36 36 36 36 36 36\n",
      " 36 36 36 36]\n"
     ]
    }
   ],
   "source": [
    "rotulos = folhas.pop('Class').values\n",
    "print(rotulos)"
   ]
  },
  {
   "cell_type": "code",
   "execution_count": 6,
   "metadata": {},
   "outputs": [
    {
     "name": "stdout",
     "output_type": "stream",
     "text": [
      "[[1.0000e+00 7.2694e-01 1.4742e+00 ... 5.2323e-03 2.7477e-04 1.1756e+00]\n",
      " [2.0000e+00 7.4173e-01 1.5257e+00 ... 2.7080e-03 7.4846e-05 6.9659e-01]\n",
      " [3.0000e+00 7.6722e-01 1.5725e+00 ... 9.2068e-04 3.7886e-05 4.4348e-01]\n",
      " ...\n",
      " [8.0000e+00 3.5344e-01 1.0329e+00 ... 1.6123e-02 4.5288e-04 1.6935e+00]\n",
      " [9.0000e+00 5.9988e-01 1.1427e+00 ... 6.1900e-03 2.6454e-04 1.1526e+00]\n",
      " [1.0000e+01 4.7195e-01 1.0901e+00 ... 1.3487e-02 3.2855e-04 1.5623e+00]]\n"
     ]
    }
   ],
   "source": [
    "caracteristicas = folhas.values\n",
    "print(caracteristicas)"
   ]
  },
  {
   "cell_type": "code",
   "execution_count": 12,
   "metadata": {},
   "outputs": [
    {
     "name": "stdout",
     "output_type": "stream",
     "text": [
      "RandomForestClassifier(n_estimators=50)\n"
     ]
    }
   ],
   "source": [
    "floresta = RandomForestClassifier(n_estimators=50)\n",
    "modelo = floresta.fit(caracteristicas, rotulos)\n",
    "print(modelo)"
   ]
  },
  {
   "cell_type": "code",
   "execution_count": 9,
   "metadata": {},
   "outputs": [
    {
     "name": "stderr",
     "output_type": "stream",
     "text": [
      "/home/luan/java/workspace_python/interpreters/py38/lib/python3.8/site-packages/sklearn/model_selection/_split.py:670: UserWarning: The least populated class in y has only 8 members, which is less than n_splits=10.\n",
      "  warnings.warn((\"The least populated class in y has only %d\"\n"
     ]
    },
    {
     "name": "stdout",
     "output_type": "stream",
     "text": [
      "[13  1  1  1  1  1  1 27  1 29  1  1  2  2  2 32  2 32 32  2  2 13  3 24\n",
      "  3  9  3  3  3  9  3  3 30  4 27  9 24  4 24 26  5  5  5  5  5  5  5  5\n",
      "  5  5  5  5 11  6  6  6  6  6  6  6  7  7  5  7  7  7 12 32  7  7  8  8\n",
      "  8  8  8  8  8  8  8  8  8  9  9  9 10  9  9 10 30  9  9  7  9  9  9 10\n",
      " 10  9 10  9 10 10 10 10 10 10 10 10 11 11 11 11 11 11 11 11 11 11 11 11\n",
      " 11 11 11 11 12 28  7 12 12 12  2 12 12 12 12 12 13 13 13  1 13 13 27 33\n",
      " 13 27 33 33 13 14 14 14 28 32 28 14 22 14 14 14 14 15 15 15 15 15 15 15\n",
      " 15 15 15 12 22 28 12  5 12 22 22 22 22 22 12 23 23 23 23  6 23 23 23 23\n",
      " 23 29  9 24 26 24 24 24 24  1  4 24  4 24 24  9 25 25 25 25 25 25 25 25\n",
      " 13  7 26 24 26 26  4 24 22 26 26 26 26 27 27 27 27 27  2 27 27 24  1 12\n",
      " 12 28 35 14 28 35 28 28 14 28 28 29 29 29 29 29 29 29 29 29 29 29 29 30\n",
      " 30 30 30 30 30 30 30 30 30 30  9 31 31 31 34 34 31 31 31 31 31 31 32  2\n",
      " 14  2 32 32  2  2 27  1  1 33 33 33 32 13 33 33 27 33 33 33 34 34 34 31\n",
      " 34 34 34 34 34 34 31 35 35 35 35 35 35 35 35 35 35 22 36 36 15 36 36 36\n",
      " 36 36 36 11]\n"
     ]
    }
   ],
   "source": [
    "predicao1 = cross_val_predict(floresta, caracteristicas, rotulos, cv=10)\n",
    "print(predicao1)"
   ]
  },
  {
   "cell_type": "code",
   "execution_count": 10,
   "metadata": {},
   "outputs": [
    {
     "name": "stdout",
     "output_type": "stream",
     "text": [
      "340\n"
     ]
    }
   ],
   "source": [
    "print(len(predicao1))"
   ]
  },
  {
   "cell_type": "code",
   "execution_count": 6,
   "metadata": {},
   "outputs": [
    {
     "name": "stderr",
     "output_type": "stream",
     "text": [
      "/home/luan/java/workspace_python/interpreters/py38/lib/python3.8/site-packages/sklearn/model_selection/_split.py:670: UserWarning: The least populated class in y has only 8 members, which is less than n_splits=10.\n",
      "  warnings.warn((\"The least populated class in y has only %d\"\n"
     ]
    },
    {
     "name": "stdout",
     "output_type": "stream",
     "text": [
      "[0.76470588 0.85294118 0.64705882 0.67647059 0.88235294 0.85294118\n",
      " 0.58823529 0.76470588 0.82352941 0.73529412]\n"
     ]
    }
   ],
   "source": [
    "score1 = cross_val_score(floresta, caracteristicas, rotulos, cv=10)\n",
    "print(score1)"
   ]
  },
  {
   "cell_type": "code",
   "execution_count": 7,
   "metadata": {},
   "outputs": [
    {
     "name": "stderr",
     "output_type": "stream",
     "text": [
      "/home/luan/java/workspace_python/interpreters/py38/lib/python3.8/site-packages/sklearn/model_selection/_split.py:670: UserWarning: The least populated class in y has only 8 members, which is less than n_splits=10.\n",
      "  warnings.warn((\"The least populated class in y has only %d\"\n"
     ]
    },
    {
     "name": "stdout",
     "output_type": "stream",
     "text": [
      "[13  1  1  1  1 27  1 27  1 29  1  1  2  2  2 32  2 32 32  2  2 32 25 24\n",
      "  3  9  3  3  3  3  3  3 24  4  9 24 24  4 24 26  5  5  5  5  5  5  5  5\n",
      "  5  5  5  5  6  6  6  6  6  6  6  6  7  5 12  7  7  7 22 32  7  7  8  8\n",
      "  8  8  8  8  8  8  8  8  8  9  9  9 10  9  9  9  3  9  9  7  9  9  9 10\n",
      " 10  9 10  9 10 10 10 10 10 10 10 10 11 11 11 11 11 11 11 11 11 11 11 11\n",
      " 11 11 11 11 12 12 12 12 12 12  2 12 12 12 12 12 13 13 13 26 13 13 27 33\n",
      " 13 26 13 33 13 14 14 14 28 32 14 14 22 14 14 14 14 15 15 15 15 15 15 15\n",
      " 15 15 15 22 22 22 12  5 22 22 22  7 22  6 22 23 23 23 23 23 23 23 23 23\n",
      " 23 23 24 24 26 24 24 30 24  1 24 24 24 24 24 10 25 25 25 25 25 25 25 25\n",
      " 13 32 26 24 26 26 26 24 22 26 26 26 24 27 27 27 27 27  2 27 27 33  1 28\n",
      " 28 28 35 14 28 35 28 28 28 28 28 29 29 29 29 29 29 29 29 29 29 29 29 30\n",
      " 30 30 30 30 30 30 30 30 30 30  9 31 31 31 34 31 31 31 31 31 31 31 32  2\n",
      " 14  2 32 32  2  2 27  2  1 33 33 33  1 33 14 33 13 13 33 33 34 34 34 34\n",
      " 31 34 34 34 34 34 31 35 35 12 35 35 35 28 35 35 35 22 36 36 15 36 36 36\n",
      " 36 36 36 11]\n"
     ]
    }
   ],
   "source": [
    "stratifiedKFold = StratifiedKFold(n_splits=10, shuffle=True, random_state=42)\n",
    "predicao2 = cross_val_predict(floresta, caracteristicas, rotulos, cv=stratifiedKFold)\n",
    "print(predicao2)"
   ]
  },
  {
   "cell_type": "code",
   "execution_count": 8,
   "metadata": {},
   "outputs": [
    {
     "name": "stderr",
     "output_type": "stream",
     "text": [
      "/home/luan/java/workspace_python/interpreters/py38/lib/python3.8/site-packages/sklearn/model_selection/_split.py:670: UserWarning: The least populated class in y has only 8 members, which is less than n_splits=10.\n",
      "  warnings.warn((\"The least populated class in y has only %d\"\n"
     ]
    },
    {
     "name": "stdout",
     "output_type": "stream",
     "text": [
      "[0.82352941 0.85294118 0.79411765 0.82352941 0.88235294 0.61764706\n",
      " 0.73529412 0.67647059 0.76470588 0.70588235]\n"
     ]
    }
   ],
   "source": [
    "score2 = cross_val_score(floresta, caracteristicas, rotulos, cv=stratifiedKFold)\n",
    "print(score2)"
   ]
  },
  {
   "cell_type": "code",
   "execution_count": 9,
   "metadata": {},
   "outputs": [
    {
     "name": "stdout",
     "output_type": "stream",
     "text": [
      "[13  1  1  1  1  1  1 27  1 29  1  1  2 32 32 32  2 32 32  2  2 13  9 24\n",
      "  3  9  3 30  3  9  3  3 24  4  4  9 24  4 24 26  5  5  5  5  5  5  5  5\n",
      "  5  5  5  5  6  6  6  6  6  6  6  6  5  7 12  7  7  7 12 32  7  7  8  8\n",
      "  8  8  8  8  8  8  8  8  8  9  9 30 10  9  9 10  3  9  9  7  9  9  9 10\n",
      " 10  9 10  9 10 10 10 10 10 10 10 10 11 11 11 11 11 11 11 11 11 11 11 11\n",
      " 11 11 11 11 12 28  7 12 12 12  2 12 12 12 12 12 13 13 13 33 13 13 27 33\n",
      " 13 27 13 33 13 14 14 14 28 32 28 28 22 14 14 14 14 15 15 15 15 15 15 15\n",
      " 15 15 15 12 22 28 12  5 12 22 22 26  7 22 22 23 23 23 23 23 23 23 30 23\n",
      " 23 23 24 24 26 24 24  9 24  1 24 24 24 24 24 25 10 25 25 25 25 25 25 25\n",
      " 13 32 26 24 26 26 26 26 22 13 26 26 26 27 27 27 27 27  2 27 24 33  1 28\n",
      " 12 28 28 14 28 35 12 28 14 28 28 29 29 29 29 29 29 29 29 29 29 29 29 30\n",
      " 30 30 30 30 30 30 30 30 30 30 23 31 31 31 34 34 31 31 31 31 31 31 32  2\n",
      " 32  2 32 32  2 32 13  1  1 33 33 13  1 13 33 33 27 33 33 33 34 34 34 34\n",
      " 31 34 34 34 34 34 31 35 35 12 35 35 35 28 35 35 35 22 36 36 15 36 36 36\n",
      " 36 36 11 11]\n"
     ]
    }
   ],
   "source": [
    "leaveOneOut = LeaveOneOut()\n",
    "predicao3 = cross_val_predict(floresta, caracteristicas, rotulos, cv=leaveOneOut)\n",
    "print(predicao3)"
   ]
  },
  {
   "cell_type": "code",
   "execution_count": 10,
   "metadata": {},
   "outputs": [
    {
     "name": "stdout",
     "output_type": "stream",
     "text": [
      "[0. 1. 1. 1. 1. 1. 1. 0. 1. 0. 1. 1. 1. 1. 0. 0. 1. 0. 0. 0. 1. 0. 0. 0.\n",
      " 1. 0. 1. 1. 1. 0. 1. 1. 0. 0. 0. 0. 0. 1. 0. 0. 1. 1. 1. 1. 1. 1. 1. 1.\n",
      " 1. 1. 1. 1. 1. 1. 1. 1. 1. 1. 1. 1. 1. 1. 1. 1. 1. 1. 0. 0. 1. 1. 1. 1.\n",
      " 1. 1. 1. 1. 1. 1. 1. 1. 1. 1. 1. 1. 0. 1. 1. 1. 0. 1. 1. 0. 1. 0. 1. 1.\n",
      " 1. 0. 1. 0. 1. 1. 1. 1. 1. 1. 1. 1. 1. 1. 1. 1. 1. 1. 1. 1. 1. 1. 1. 1.\n",
      " 1. 1. 1. 1. 1. 0. 0. 1. 1. 1. 0. 1. 1. 1. 1. 1. 1. 1. 1. 0. 1. 1. 0. 0.\n",
      " 1. 0. 1. 0. 1. 1. 1. 1. 0. 0. 0. 1. 0. 1. 1. 1. 1. 1. 1. 1. 1. 1. 1. 1.\n",
      " 1. 1. 1. 0. 1. 0. 1. 0. 1. 1. 1. 1. 1. 0. 1. 1. 1. 1. 1. 1. 1. 1. 1. 1.\n",
      " 1. 1. 0. 1. 0. 1. 1. 0. 1. 0. 1. 1. 0. 1. 1. 0. 0. 1. 1. 1. 1. 1. 1. 1.\n",
      " 0. 0. 1. 0. 1. 1. 1. 1. 0. 0. 1. 1. 0. 0. 1. 1. 1. 1. 0. 1. 1. 0. 0. 1.\n",
      " 1. 1. 1. 0. 1. 0. 0. 1. 0. 1. 1. 1. 1. 1. 1. 1. 1. 1. 1. 1. 1. 1. 1. 1.\n",
      " 1. 1. 1. 1. 1. 1. 1. 1. 1. 1. 0. 1. 1. 1. 0. 0. 1. 1. 1. 1. 1. 1. 1. 0.\n",
      " 0. 0. 1. 1. 0. 0. 0. 0. 0. 1. 1. 1. 0. 0. 0. 1. 0. 1. 1. 1. 1. 1. 1. 0.\n",
      " 0. 1. 1. 1. 1. 1. 0. 1. 1. 0. 1. 1. 0. 1. 1. 1. 1. 0. 1. 1. 1. 1. 1. 1.\n",
      " 1. 1. 0. 0.]\n"
     ]
    }
   ],
   "source": [
    "score3 = cross_val_score(floresta, caracteristicas, rotulos, cv=leaveOneOut)\n",
    "print(score3)"
   ]
  },
  {
   "cell_type": "code",
   "execution_count": 11,
   "metadata": {},
   "outputs": [
    {
     "name": "stdout",
     "output_type": "stream",
     "text": [
      "[13  1  1  1  1  1  1 27  1 29  1  1  2  2 32 32  2 32 32  2  2 32 25 24\n",
      "  3  3  3  3  3  9  3  3 26 13 24  9  4 24 24 26  5  5  5  5  5  5  5  5\n",
      "  5  5  5  5 11  6  6  6  6  6  6  6  7 22  7  7 22  7 12 32  7  7  8  8\n",
      "  8  8  8  8  8  8  8  8  8  9  9  9 10  9  9 10 30  9  9  7  9  9  9 10\n",
      " 10  9 10  9 10 10 10 10 10 10 10 10 11 11 11 11 11 11 11 11 11 11 11 11\n",
      " 11 11 11 11 12 28  7 12 12 12 22 12 12 12 12 12 13 13 13  1 33 13 27 33\n",
      " 13 13 13 33 13 14 14 14 14 32 12 14 22 14 14 14 14 15 15 15 15 15 15 15\n",
      " 15 15 15 22 22 28 12  5 12 22 22 26 22 31 22 23 23 23 23 23 23 23 30 23\n",
      " 23 23  9 24 26 24  4  9 24  1 24 24 26 24 24 25 25 25 25 25 25 25 25 25\n",
      " 13 32 26 24 26 26 26 27 22 13 26 26 27 27 27 27 27 27  2 27 27 24  1 28\n",
      " 28 35 35 28 28 35 12 28 14 28 28 29 29 29 29 29 29 29 29 29 29 29 29 30\n",
      " 30 30 30 30 30 30 30 30 30  9  3 31 31 31 34 31 31 31 31 31 31 31 32  2\n",
      " 32  2 32 32 32  2  2  2  1 33 33 33  1 13 33 33 13 13 13 33 34 34 34 31\n",
      " 34 34 34 34 34 34 31 35 35 12 35 35 35 28 35 35 35 22 36 36 15 36 36 36\n",
      " 36 36 11 11]\n"
     ]
    }
   ],
   "source": [
    "kfold = KFold(n_splits=10, shuffle=True, random_state=42)\n",
    "predicao4 = cross_val_predict(floresta, caracteristicas, rotulos, cv=kfold)\n",
    "print(predicao4)"
   ]
  },
  {
   "cell_type": "code",
   "execution_count": 12,
   "metadata": {},
   "outputs": [
    {
     "name": "stdout",
     "output_type": "stream",
     "text": [
      "[0.82352941 0.82352941 0.58823529 0.73529412 0.58823529 0.82352941\n",
      " 0.79411765 0.82352941 0.76470588 0.79411765]\n"
     ]
    }
   ],
   "source": [
    "score4 = cross_val_score(floresta, caracteristicas, rotulos, cv=kfold)\n",
    "print(score4)"
   ]
  },
  {
   "cell_type": "code",
   "execution_count": 18,
   "metadata": {},
   "outputs": [
    {
     "name": "stdout",
     "output_type": "stream",
     "text": [
      "Floresta Randômica score medio 1:  75.88235294117646 %\n",
      "Floresta Randômica Acurácia (precisão média) 1:  76.76470588235294 %\n",
      "\n",
      "\n",
      "stratifiedKFold score medio 2:  76.76470588235294 %\n",
      "stratifiedKFold Acurácia (precisão média) 2:  77.64705882352942 %\n",
      "\n",
      "\n",
      "leave-one-out score medio 3:  74.11764705882354 %\n",
      "leave-one-out Acurácia (precisão média) 3:  73.23529411764706 %\n",
      "\n",
      "\n",
      "KFold score medio 4:  75.58823529411765 %\n",
      "KFold Acurácia (precisão média) 4:  73.82352941176471 %\n",
      "\n",
      "\n"
     ]
    }
   ],
   "source": [
    "print(\"Floresta Randômica score medio 1: \", str(score1.mean() * 100) + ' %')\n",
    "print(\"Floresta Randômica Acurácia (precisão média) 1: \", str(accuracy_score(rotulos, predicao1) * 100) + ' %')\n",
    "print(\"\\n\")\n",
    "        \n",
    "print(\"stratifiedKFold score medio 2: \", str(score2.mean() * 100) + ' %')\n",
    "print(\"stratifiedKFold Acurácia (precisão média) 2: \", str(accuracy_score(rotulos, predicao2) * 100) + ' %')         \n",
    "print(\"\\n\")\n",
    "            \n",
    "print(\"leave-one-out score medio 3: \", str(score3.mean() * 100) + ' %')          \n",
    "print(\"leave-one-out Acurácia (precisão média) 3: \", str(accuracy_score(rotulos, predicao3) * 100) + ' %')\n",
    "print(\"\\n\")\n",
    "           \n",
    "print(\"KFold score medio 4: \", str(score4.mean() * 100) + ' %')\n",
    "print(\"KFold Acurácia (precisão média) 4: \", str(accuracy_score(rotulos, predicao4) * 100) + ' %')         \n",
    "print(\"\\n\")"
   ]
  },
  {
   "cell_type": "code",
   "execution_count": 20,
   "metadata": {},
   "outputs": [
    {
     "data": {
      "image/png": "[encoded data removed]",
      "text/plain": [
       "<Figure size 432x288 with 1 Axes>"
      ]
     },
     "metadata": {
      "needs_background": "light"
     },
     "output_type": "display_data"
    }
   ],
   "source": [
    "feat_importances = pd.Series(floresta.feature_importances_, index=folhas.columns)\n",
    "feat_importances.nlargest(16).plot(kind='barh', title='Floresta Randômica - Importancia dos Atributos')\n",
    "plt.show()"
   ]
  },
  {
   "cell_type": "code",
   "execution_count": 21,
   "metadata": {},
   "outputs": [
    {
     "data": {
      "image/png": "[encoded data removed]",
      "text/plain": [
       "<Figure size 288x288 with 2 Axes>"
      ]
     },
     "metadata": {
      "needs_background": "light"
     },
     "output_type": "display_data"
    }
   ],
   "source": [
    "matrizConfusao = confusion_matrix(rotulos, predicao1)\n",
    "plt.matshow(matrizConfusao)\n",
    "plt.ylabel('Caracteristicas - Conhecida')\n",
    "plt.xlabel('Predição')\n",
    "plt.title('Floresta Randômica Matriz de Confusão')\n",
    "plt.colorbar()\n",
    "plt.show()"
   ]
  },
  {
   "cell_type": "code",
   "execution_count": 22,
   "metadata": {},
   "outputs": [
    {
     "data": {
      "image/png": "[encoded data removed]",
      "text/plain": [
       "<Figure size 288x288 with 2 Axes>"
      ]
     },
     "metadata": {
      "needs_background": "light"
     },
     "output_type": "display_data"
    }
   ],
   "source": [
    "matrizConfusao2 = confusion_matrix(rotulos, predicao2)\n",
    "plt.matshow(matrizConfusao2)\n",
    "plt.ylabel('Caracteristicas - Conhecida')\n",
    "plt.xlabel('Predição')\n",
    "plt.title('stratifiedKFold Matriz de Confusão')\n",
    "plt.colorbar()\n",
    "plt.show()"
   ]
  },
  {
   "cell_type": "code",
   "execution_count": 23,
   "metadata": {},
   "outputs": [
    {
     "data": {
      "image/png": "[encoded data removed]",
      "text/plain": [
       "<Figure size 288x288 with 2 Axes>"
      ]
     },
     "metadata": {
      "needs_background": "light"
     },
     "output_type": "display_data"
    }
   ],
   "source": [
    "matrizConfusao3 = confusion_matrix(rotulos, predicao3)\n",
    "plt.matshow(matrizConfusao3)\n",
    "plt.ylabel('Caracteristicas - Conhecida')\n",
    "plt.xlabel('Predição')\n",
    "plt.title('leave-one-out Matriz de Confusão')\n",
    "plt.colorbar()\n",
    "plt.show()"
   ]
  },
  {
   "cell_type": "code",
   "execution_count": 24,
   "metadata": {},
   "outputs": [
    {
     "data": {
      "image/png": "[encoded data removed]",
      "text/plain": [
       "<Figure size 288x288 with 2 Axes>"
      ]
     },
     "metadata": {
      "needs_background": "light"
     },
     "output_type": "display_data"
    }
   ],
   "source": [
    "matrizConfusao4 = confusion_matrix(rotulos, predicao4)\n",
    "plt.matshow(matrizConfusao4)\n",
    "plt.ylabel('Caracteristicas - Conhecida')\n",
    "plt.xlabel('Predição')\n",
    "plt.title('KFold Matriz de Confusão')\n",
    "plt.colorbar()\n",
    "plt.show()"
   ]
  }
 ],
 "metadata": {
  "kernelspec": {
   "display_name": "Python 3",
   "language": "python",
   "name": "python3"
  },
  "language_info": {
   "codemirror_mode": {
    "name": "ipython",
    "version": 3
   },
   "file_extension": ".py",
   "mimetype": "text/x-python",
   "name": "python",
   "nbconvert_exporter": "python",
   "pygments_lexer": "ipython3",
   "version": "3.8.2"
  }
 },
 "nbformat": 4,
 "nbformat_minor": 4
}
